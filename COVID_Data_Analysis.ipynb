{
 "cells": [
  {
   "cell_type": "markdown",
   "metadata": {},
   "source": [
    "COVID-19"
   ]
  },
  {
   "cell_type": "code",
   "execution_count": 43,
   "metadata": {},
   "outputs": [],
   "source": [
    "import pandas as pd\n",
    "import numpy as np\n",
    "import matplotlib.pyplot as plt\n",
    "import seaborn as sns\n",
    "import geopandas as gpd\n",
    "import pandas.tseries\n",
    "import pandasql\n",
    "from pandasql import sqldf\n",
    "%matplotlib inline\n",
    "\n",
    "pysqldf = lambda q: sqldf(q, globals())"
   ]
  },
  {
   "cell_type": "code",
   "execution_count": 8,
   "metadata": {},
   "outputs": [],
   "source": [
    "df = pd.read_csv('COVID_19 Cases.csv')"
   ]
  },
  {
   "cell_type": "code",
   "execution_count": 10,
   "metadata": {
    "scrolled": true
   },
   "outputs": [
    {
     "data": {
      "text/html": [
       "<div>\n",
       "<style scoped>\n",
       "    .dataframe tbody tr th:only-of-type {\n",
       "        vertical-align: middle;\n",
       "    }\n",
       "\n",
       "    .dataframe tbody tr th {\n",
       "        vertical-align: top;\n",
       "    }\n",
       "\n",
       "    .dataframe thead th {\n",
       "        text-align: right;\n",
       "    }\n",
       "</style>\n",
       "<table border=\"1\" class=\"dataframe\">\n",
       "  <thead>\n",
       "    <tr style=\"text-align: right;\">\n",
       "      <th></th>\n",
       "      <th>Date</th>\n",
       "      <th>Country_Region</th>\n",
       "      <th>Province_State</th>\n",
       "      <th>Case_Type</th>\n",
       "      <th>Cases</th>\n",
       "      <th>Difference</th>\n",
       "      <th>Prep_Flow_Runtime</th>\n",
       "      <th>Latest_Date</th>\n",
       "      <th>Lat</th>\n",
       "      <th>Long</th>\n",
       "    </tr>\n",
       "  </thead>\n",
       "  <tbody>\n",
       "    <tr>\n",
       "      <td>0</td>\n",
       "      <td>3/11/2020</td>\n",
       "      <td>US</td>\n",
       "      <td>Arizona</td>\n",
       "      <td>Recovered</td>\n",
       "      <td>0</td>\n",
       "      <td>0</td>\n",
       "      <td>3/23/2020 8:00:09 AM</td>\n",
       "      <td>3/22/2020</td>\n",
       "      <td>32.0575</td>\n",
       "      <td>-111.6661</td>\n",
       "    </tr>\n",
       "    <tr>\n",
       "      <td>1</td>\n",
       "      <td>3/11/2020</td>\n",
       "      <td>US</td>\n",
       "      <td>Arizona</td>\n",
       "      <td>Deaths</td>\n",
       "      <td>0</td>\n",
       "      <td>0</td>\n",
       "      <td>3/23/2020 8:00:09 AM</td>\n",
       "      <td>3/22/2020</td>\n",
       "      <td>32.0575</td>\n",
       "      <td>-111.6661</td>\n",
       "    </tr>\n",
       "    <tr>\n",
       "      <td>2</td>\n",
       "      <td>3/11/2020</td>\n",
       "      <td>US</td>\n",
       "      <td>Arizona</td>\n",
       "      <td>Confirmed</td>\n",
       "      <td>0</td>\n",
       "      <td>0</td>\n",
       "      <td>3/23/2020 8:00:09 AM</td>\n",
       "      <td>3/22/2020</td>\n",
       "      <td>32.0575</td>\n",
       "      <td>-111.6661</td>\n",
       "    </tr>\n",
       "    <tr>\n",
       "      <td>3</td>\n",
       "      <td>3/11/2020</td>\n",
       "      <td>US</td>\n",
       "      <td>Arizona</td>\n",
       "      <td>Active</td>\n",
       "      <td>0</td>\n",
       "      <td>0</td>\n",
       "      <td>3/23/2020 8:00:09 AM</td>\n",
       "      <td>3/22/2020</td>\n",
       "      <td>32.0575</td>\n",
       "      <td>-111.6661</td>\n",
       "    </tr>\n",
       "    <tr>\n",
       "      <td>4</td>\n",
       "      <td>2/15/2020</td>\n",
       "      <td>US</td>\n",
       "      <td>Arizona</td>\n",
       "      <td>Recovered</td>\n",
       "      <td>0</td>\n",
       "      <td>0</td>\n",
       "      <td>3/23/2020 8:00:09 AM</td>\n",
       "      <td>3/22/2020</td>\n",
       "      <td>32.8162</td>\n",
       "      <td>-111.2845</td>\n",
       "    </tr>\n",
       "  </tbody>\n",
       "</table>\n",
       "</div>"
      ],
      "text/plain": [
       "        Date Country_Region Province_State  Case_Type  Cases  Difference  \\\n",
       "0  3/11/2020             US        Arizona  Recovered      0           0   \n",
       "1  3/11/2020             US        Arizona     Deaths      0           0   \n",
       "2  3/11/2020             US        Arizona  Confirmed      0           0   \n",
       "3  3/11/2020             US        Arizona     Active      0           0   \n",
       "4  2/15/2020             US        Arizona  Recovered      0           0   \n",
       "\n",
       "      Prep_Flow_Runtime Latest_Date      Lat      Long  \n",
       "0  3/23/2020 8:00:09 AM   3/22/2020  32.0575 -111.6661  \n",
       "1  3/23/2020 8:00:09 AM   3/22/2020  32.0575 -111.6661  \n",
       "2  3/23/2020 8:00:09 AM   3/22/2020  32.0575 -111.6661  \n",
       "3  3/23/2020 8:00:09 AM   3/22/2020  32.0575 -111.6661  \n",
       "4  3/23/2020 8:00:09 AM   3/22/2020  32.8162 -111.2845  "
      ]
     },
     "execution_count": 10,
     "metadata": {},
     "output_type": "execute_result"
    }
   ],
   "source": [
    "df.head()"
   ]
  },
  {
   "cell_type": "code",
   "execution_count": 21,
   "metadata": {},
   "outputs": [
    {
     "data": {
      "text/plain": [
       "True"
      ]
     },
     "execution_count": 21,
     "metadata": {},
     "output_type": "execute_result"
    }
   ],
   "source": [
    "df.isna().any().any()"
   ]
  },
  {
   "cell_type": "code",
   "execution_count": 24,
   "metadata": {},
   "outputs": [
    {
     "name": "stdout",
     "output_type": "stream",
     "text": [
      "The Province_State column contains missing values.\n"
     ]
    }
   ],
   "source": [
    "for col in df.columns:\n",
    "    if df[col].isna().any() == True:\n",
    "        print(f'The {col} column contains missing values.')"
   ]
  },
  {
   "cell_type": "code",
   "execution_count": 25,
   "metadata": {},
   "outputs": [
    {
     "data": {
      "text/plain": [
       "array(['Arizona', 'California', 'Colorado', 'Connecticut', 'Delaware',\n",
       "       'Florida', 'Georgia', 'Hawaii', 'Illinois', 'Indiana', 'Iowa',\n",
       "       'Kansas', 'Kentucky', 'Louisiana', 'Maryland', 'Massachusetts',\n",
       "       'Michigan', 'Minnesota', 'Missouri', 'Nebraska', 'Nevada',\n",
       "       'New Hampshire', 'New Jersey', 'New Mexico', 'New York',\n",
       "       'North Carolina', 'Ohio', 'Oklahoma', 'Oregon', 'Pennsylvania',\n",
       "       'Rhode Island', 'South Carolina', 'South Dakota', 'Tennessee',\n",
       "       'Texas', 'Utah', 'Vermont', 'Virginia', 'Washington', 'Wisconsin',\n",
       "       'Manitoba', 'Maine', 'Gansu', 'Ningxia', 'French Polynesia',\n",
       "       'Sichuan', 'Heilongjiang', 'Australian Capital Territory',\n",
       "       'Sint Maarten', 'Fujian', 'Isle of Man', 'Idaho', 'Mississippi',\n",
       "       'Denmark', 'Hong Kong', 'Queensland', 'New Brunswick', 'Hebei',\n",
       "       'Xinjiang', 'Yunnan', 'Western Australia', 'St Martin', 'Curacao',\n",
       "       'Tianjin', 'Quebec', 'Netherlands', 'France', 'Grand Princess',\n",
       "       'Alabama', 'Bermuda', 'Montana', 'West Virginia', 'Guizhou',\n",
       "       'Faroe Islands', 'United Kingdom', 'Diamond Princess',\n",
       "       'French Guiana', 'Nova Scotia', 'New Caledonia', 'Hunan',\n",
       "       'Liaoning', 'Hainan', 'Macau', 'Henan', 'Qinghai', 'Guangxi',\n",
       "       'Arkansas', 'Guam', nan, 'Inner Mongolia', 'Prince Edward Island',\n",
       "       'Victoria', 'Shaanxi', 'Hubei', 'Anhui', 'Alaska', 'Alberta',\n",
       "       'North Dakota', 'Aruba', 'Beijing', 'Puerto Rico', 'Reunion',\n",
       "       'Shanghai', 'New South Wales', 'South Australia', 'Saskatchewan',\n",
       "       'Guangdong', 'Chongqing', 'Northwest Territories', 'Gibraltar',\n",
       "       'Jilin', 'Guadeloupe', 'Tibet', 'Mayotte', 'Shanxi', 'Ontario',\n",
       "       'Jiangsu', 'District of Columbia', 'Wyoming', 'Cayman Islands',\n",
       "       'Jiangxi', 'Zhejiang', 'British Columbia', 'Channel Islands',\n",
       "       'Tasmania', 'Virgin Islands', 'Shandong', 'Greenland',\n",
       "       'Northern Territory', 'Saint Barthelemy', 'Montserrat',\n",
       "       'Newfoundland and Labrador'], dtype=object)"
      ]
     },
     "execution_count": 25,
     "metadata": {},
     "output_type": "execute_result"
    }
   ],
   "source": [
    "df.Province_State.unique()"
   ]
  },
  {
   "cell_type": "code",
   "execution_count": 26,
   "metadata": {},
   "outputs": [
    {
     "data": {
      "text/plain": [
       "array(['3/11/2020', '2/15/2020', '1/30/2020', '3/17/2020', '3/3/2020',\n",
       "       '2/4/2020', '2/25/2020', '1/28/2020', '3/1/2020', '1/29/2020',\n",
       "       '3/10/2020', '2/16/2020', '3/4/2020', '2/2/2020', '3/20/2020',\n",
       "       '1/25/2020', '2/18/2020', '2/21/2020', '3/12/2020', '3/6/2020',\n",
       "       '3/14/2020', '3/21/2020', '1/24/2020', '2/22/2020', '3/8/2020',\n",
       "       '3/22/2020', '2/3/2020', '3/13/2020', '2/13/2020', '3/5/2020',\n",
       "       '2/19/2020', '3/7/2020', '2/1/2020', '2/23/2020', '2/7/2020',\n",
       "       '2/17/2020', '2/24/2020', '1/26/2020', '2/5/2020', '2/14/2020',\n",
       "       '3/15/2020', '2/28/2020', '2/10/2020', '3/2/2020', '1/31/2020',\n",
       "       '2/8/2020', '3/18/2020', '3/9/2020', '3/19/2020', '2/9/2020',\n",
       "       '2/27/2020', '2/29/2020', '1/23/2020', '2/20/2020', '2/12/2020',\n",
       "       '2/11/2020', '1/27/2020', '2/6/2020', '3/16/2020', '2/26/2020'],\n",
       "      dtype=object)"
      ]
     },
     "execution_count": 26,
     "metadata": {},
     "output_type": "execute_result"
    }
   ],
   "source": []
  },
  {
   "cell_type": "code",
   "execution_count": 31,
   "metadata": {},
   "outputs": [],
   "source": [
    "# Convert Data column to datetime\n",
    "df.Date = pd.to_datetime(df.Date, format='%m/%d/%y', errors='ignore')"
   ]
  },
  {
   "cell_type": "code",
   "execution_count": 33,
   "metadata": {},
   "outputs": [],
   "source": [
    "# Setting Date as dataframe index:\n",
    "df.set_index('Date', inplace = True)"
   ]
  },
  {
   "cell_type": "code",
   "execution_count": null,
   "metadata": {},
   "outputs": [],
   "source": []
  },
  {
   "cell_type": "code",
   "execution_count": 40,
   "metadata": {},
   "outputs": [
    {
     "data": {
      "image/png": "[encoded data removed]",
      "text/plain": [
       "<Figure size 432x288 with 1 Axes>"
      ]
     },
     "metadata": {
      "needs_background": "light"
     },
     "output_type": "display_data"
    }
   ],
   "source": [
    "fig = plt.figure(figsize=(12,12))\n",
    "ax = df.Cases.plot()\n",
    "\n",
    "\n",
    "plt.legend()\n",
    "plt.show()"
   ]
  },
  {
   "cell_type": "code",
   "execution_count": 50,
   "metadata": {},
   "outputs": [
    {
     "data": {
      "text/html": [
       "<div>\n",
       "<style scoped>\n",
       "    .dataframe tbody tr th:only-of-type {\n",
       "        vertical-align: middle;\n",
       "    }\n",
       "\n",
       "    .dataframe tbody tr th {\n",
       "        vertical-align: top;\n",
       "    }\n",
       "\n",
       "    .dataframe thead th {\n",
       "        text-align: right;\n",
       "    }\n",
       "</style>\n",
       "<table border=\"1\" class=\"dataframe\">\n",
       "  <thead>\n",
       "    <tr style=\"text-align: right;\">\n",
       "      <th></th>\n",
       "      <th>Country_Region</th>\n",
       "      <th>Province_State</th>\n",
       "      <th>Case_Type</th>\n",
       "      <th>Cases</th>\n",
       "      <th>Difference</th>\n",
       "      <th>Prep_Flow_Runtime</th>\n",
       "      <th>Latest_Date</th>\n",
       "      <th>Lat</th>\n",
       "      <th>Long</th>\n",
       "    </tr>\n",
       "    <tr>\n",
       "      <th>Date</th>\n",
       "      <th></th>\n",
       "      <th></th>\n",
       "      <th></th>\n",
       "      <th></th>\n",
       "      <th></th>\n",
       "      <th></th>\n",
       "      <th></th>\n",
       "      <th></th>\n",
       "      <th></th>\n",
       "    </tr>\n",
       "  </thead>\n",
       "  <tbody>\n",
       "    <tr>\n",
       "      <td>3/11/2020</td>\n",
       "      <td>US</td>\n",
       "      <td>Arizona</td>\n",
       "      <td>Recovered</td>\n",
       "      <td>0</td>\n",
       "      <td>0</td>\n",
       "      <td>3/23/2020 8:00:09 AM</td>\n",
       "      <td>3/22/2020</td>\n",
       "      <td>32.0575</td>\n",
       "      <td>-111.6661</td>\n",
       "    </tr>\n",
       "    <tr>\n",
       "      <td>3/11/2020</td>\n",
       "      <td>US</td>\n",
       "      <td>Arizona</td>\n",
       "      <td>Deaths</td>\n",
       "      <td>0</td>\n",
       "      <td>0</td>\n",
       "      <td>3/23/2020 8:00:09 AM</td>\n",
       "      <td>3/22/2020</td>\n",
       "      <td>32.0575</td>\n",
       "      <td>-111.6661</td>\n",
       "    </tr>\n",
       "    <tr>\n",
       "      <td>3/11/2020</td>\n",
       "      <td>US</td>\n",
       "      <td>Arizona</td>\n",
       "      <td>Confirmed</td>\n",
       "      <td>0</td>\n",
       "      <td>0</td>\n",
       "      <td>3/23/2020 8:00:09 AM</td>\n",
       "      <td>3/22/2020</td>\n",
       "      <td>32.0575</td>\n",
       "      <td>-111.6661</td>\n",
       "    </tr>\n",
       "    <tr>\n",
       "      <td>3/11/2020</td>\n",
       "      <td>US</td>\n",
       "      <td>Arizona</td>\n",
       "      <td>Active</td>\n",
       "      <td>0</td>\n",
       "      <td>0</td>\n",
       "      <td>3/23/2020 8:00:09 AM</td>\n",
       "      <td>3/22/2020</td>\n",
       "      <td>32.0575</td>\n",
       "      <td>-111.6661</td>\n",
       "    </tr>\n",
       "    <tr>\n",
       "      <td>2/15/2020</td>\n",
       "      <td>US</td>\n",
       "      <td>Arizona</td>\n",
       "      <td>Recovered</td>\n",
       "      <td>0</td>\n",
       "      <td>0</td>\n",
       "      <td>3/23/2020 8:00:09 AM</td>\n",
       "      <td>3/22/2020</td>\n",
       "      <td>32.8162</td>\n",
       "      <td>-111.2845</td>\n",
       "    </tr>\n",
       "    <tr>\n",
       "      <td>...</td>\n",
       "      <td>...</td>\n",
       "      <td>...</td>\n",
       "      <td>...</td>\n",
       "      <td>...</td>\n",
       "      <td>...</td>\n",
       "      <td>...</td>\n",
       "      <td>...</td>\n",
       "      <td>...</td>\n",
       "      <td>...</td>\n",
       "    </tr>\n",
       "    <tr>\n",
       "      <td>2/9/2020</td>\n",
       "      <td>US</td>\n",
       "      <td>Arizona</td>\n",
       "      <td>Active</td>\n",
       "      <td>0</td>\n",
       "      <td>0</td>\n",
       "      <td>3/23/2020 8:00:09 AM</td>\n",
       "      <td>3/22/2020</td>\n",
       "      <td>33.7298</td>\n",
       "      <td>-111.4312</td>\n",
       "    </tr>\n",
       "    <tr>\n",
       "      <td>2/27/2020</td>\n",
       "      <td>US</td>\n",
       "      <td>Arizona</td>\n",
       "      <td>Recovered</td>\n",
       "      <td>0</td>\n",
       "      <td>0</td>\n",
       "      <td>3/23/2020 8:00:09 AM</td>\n",
       "      <td>3/22/2020</td>\n",
       "      <td>33.7298</td>\n",
       "      <td>-111.4312</td>\n",
       "    </tr>\n",
       "    <tr>\n",
       "      <td>2/27/2020</td>\n",
       "      <td>US</td>\n",
       "      <td>Arizona</td>\n",
       "      <td>Deaths</td>\n",
       "      <td>0</td>\n",
       "      <td>0</td>\n",
       "      <td>3/23/2020 8:00:09 AM</td>\n",
       "      <td>3/22/2020</td>\n",
       "      <td>33.7298</td>\n",
       "      <td>-111.4312</td>\n",
       "    </tr>\n",
       "    <tr>\n",
       "      <td>2/27/2020</td>\n",
       "      <td>US</td>\n",
       "      <td>Arizona</td>\n",
       "      <td>Confirmed</td>\n",
       "      <td>0</td>\n",
       "      <td>0</td>\n",
       "      <td>3/23/2020 8:00:09 AM</td>\n",
       "      <td>3/22/2020</td>\n",
       "      <td>33.7298</td>\n",
       "      <td>-111.4312</td>\n",
       "    </tr>\n",
       "    <tr>\n",
       "      <td>2/27/2020</td>\n",
       "      <td>US</td>\n",
       "      <td>Arizona</td>\n",
       "      <td>Active</td>\n",
       "      <td>0</td>\n",
       "      <td>0</td>\n",
       "      <td>3/23/2020 8:00:09 AM</td>\n",
       "      <td>3/22/2020</td>\n",
       "      <td>33.7298</td>\n",
       "      <td>-111.4312</td>\n",
       "    </tr>\n",
       "  </tbody>\n",
       "</table>\n",
       "<p>960 rows × 9 columns</p>\n",
       "</div>"
      ],
      "text/plain": [
       "          Country_Region Province_State  Case_Type  Cases  Difference  \\\n",
       "Date                                                                    \n",
       "3/11/2020             US        Arizona  Recovered      0           0   \n",
       "3/11/2020             US        Arizona     Deaths      0           0   \n",
       "3/11/2020             US        Arizona  Confirmed      0           0   \n",
       "3/11/2020             US        Arizona     Active      0           0   \n",
       "2/15/2020             US        Arizona  Recovered      0           0   \n",
       "...                  ...            ...        ...    ...         ...   \n",
       "2/9/2020              US        Arizona     Active      0           0   \n",
       "2/27/2020             US        Arizona  Recovered      0           0   \n",
       "2/27/2020             US        Arizona     Deaths      0           0   \n",
       "2/27/2020             US        Arizona  Confirmed      0           0   \n",
       "2/27/2020             US        Arizona     Active      0           0   \n",
       "\n",
       "              Prep_Flow_Runtime Latest_Date      Lat      Long  \n",
       "Date                                                            \n",
       "3/11/2020  3/23/2020 8:00:09 AM   3/22/2020  32.0575 -111.6661  \n",
       "3/11/2020  3/23/2020 8:00:09 AM   3/22/2020  32.0575 -111.6661  \n",
       "3/11/2020  3/23/2020 8:00:09 AM   3/22/2020  32.0575 -111.6661  \n",
       "3/11/2020  3/23/2020 8:00:09 AM   3/22/2020  32.0575 -111.6661  \n",
       "2/15/2020  3/23/2020 8:00:09 AM   3/22/2020  32.8162 -111.2845  \n",
       "...                         ...         ...      ...       ...  \n",
       "2/9/2020   3/23/2020 8:00:09 AM   3/22/2020  33.7298 -111.4312  \n",
       "2/27/2020  3/23/2020 8:00:09 AM   3/22/2020  33.7298 -111.4312  \n",
       "2/27/2020  3/23/2020 8:00:09 AM   3/22/2020  33.7298 -111.4312  \n",
       "2/27/2020  3/23/2020 8:00:09 AM   3/22/2020  33.7298 -111.4312  \n",
       "2/27/2020  3/23/2020 8:00:09 AM   3/22/2020  33.7298 -111.4312  \n",
       "\n",
       "[960 rows x 9 columns]"
      ]
     },
     "execution_count": 50,
     "metadata": {},
     "output_type": "execute_result"
    }
   ],
   "source": [
    "df_Arizona = df[df.Province_State == 'Arizona']\n",
    "df_Arizona"
   ]
  },
  {
   "cell_type": "code",
   "execution_count": null,
   "metadata": {},
   "outputs": [],
   "source": [
    "df_region_preview = pd.read_sql_query(\"\"\"SELECT o.ShipRegion, \\\n",
    "            SUM(od.Quantity * od.UnitPrice * (1-od.Discount)) TotalRev \\\n",
    "            FROM [OrderDetail] od \\\n",
    "            INNER JOIN [Order] o on o.Id = od.OrderId \\\n",
    "            GROUP BY o.ShipRegion \\\n",
    "            ORDER BY TotalRev DESC\"\"\", engine)\n",
    "df_region_preview.head(10)"
   ]
  },
  {
   "cell_type": "code",
   "execution_count": null,
   "metadata": {},
   "outputs": [],
   "source": []
  }
 ],
 "metadata": {
  "kernelspec": {
   "display_name": "Python 3",
   "language": "python",
   "name": "python3"
  },
  "language_info": {
   "codemirror_mode": {
    "name": "ipython",
    "version": 3
   },
   "file_extension": ".py",
   "mimetype": "text/x-python",
   "name": "python",
   "nbconvert_exporter": "python",
   "pygments_lexer": "ipython3",
   "version": "3.7.4"
  }
 },
 "nbformat": 4,
 "nbformat_minor": 2
}
